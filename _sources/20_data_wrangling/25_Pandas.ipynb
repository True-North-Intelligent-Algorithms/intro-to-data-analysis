{
 "cells": [
  {
   "cell_type": "markdown",
   "metadata": {},
   "source": [
    "# Pandas Tutorial"
   ]
  },
  {
   "cell_type": "markdown",
   "metadata": {},
   "source": [
    "Import Pandas"
   ]
  },
  {
   "cell_type": "code",
   "execution_count": 1,
   "metadata": {},
   "outputs": [],
   "source": [
    "import pandas as pd"
   ]
  },
  {
   "cell_type": "markdown",
   "metadata": {},
   "source": [
    "Read .csv file, using pandas, look at the type of 'df' (it should be a dataframe) and print the first few rows of the dataframe. "
   ]
  },
  {
   "cell_type": "code",
   "execution_count": 2,
   "metadata": {},
   "outputs": [
    {
     "name": "stdout",
     "output_type": "stream",
     "text": [
      "<class 'pandas.core.frame.DataFrame'>\n",
      "\n",
      "    Tm   W   L  BatAge  PAge    R     H   2B  3B   HR  ...  SO_a  HBP_a  BK  \\\n",
      "0  BAL  96  66    28.3  27.7  705  1434  264  16  211  ...  1174     59   2   \n",
      "1  BOS  71  91    29.2  29.9  634  1355  282  20  123  ...  1213     47   5   \n",
      "2  CHW  73  89    27.7  27.4  660  1400  279  32  155  ...  1152     69   3   \n",
      "3  CLE  85  77    28.5  27.2  669  1411  284  23  142  ...  1450     58   2   \n",
      "4  DET  90  72    29.8  28.5  757  1557  325  26  155  ...  1244     42   9   \n",
      "\n",
      "   WP    BF  ERA+  BB9  SO9  SO/W  LOB.1  \n",
      "0  42  6104   112  2.9  7.2  2.49   1127  \n",
      "1  51  6231    97  3.0  7.4  2.52   1119  \n",
      "2  75  6255    90  3.5  7.2  2.07   1174  \n",
      "3  56  6193   104  2.8  8.9  3.13   1135  \n",
      "4  43  6191   100  2.9  7.7  2.69   1124  \n",
      "\n",
      "[5 rows x 49 columns]\n"
     ]
    }
   ],
   "source": [
    "df=pd.read_csv(\"MLBTeams2014.csv\")\n",
    "print(type(df))\n",
    "print()\n",
    "print (df.head())"
   ]
  },
  {
   "cell_type": "markdown",
   "metadata": {},
   "source": [
    "Print the shape, columns and row indexes of this dataset"
   ]
  },
  {
   "cell_type": "code",
   "execution_count": 3,
   "metadata": {},
   "outputs": [
    {
     "name": "stdout",
     "output_type": "stream",
     "text": [
      "size:  (16, 49)\n",
      "\n",
      "columns:  Index(['Tm', 'W', 'L', 'BatAge', 'PAge', 'R', 'H', '2B', '3B', 'HR', 'RBI',\n",
      "       'SB', 'CS', 'BB', 'SO', 'BA', 'OBP', 'SLG', 'OPS', 'OPS+', 'TB', 'GDP',\n",
      "       'HBP', 'SH', 'SF', 'IBB', 'LOB', 'RA/G', 'W.1', 'L.1', 'ERA', 'SV',\n",
      "       'IP', 'H_a', 'R_a', 'ER_a', 'HR_a', 'BB_a', 'IBB_a', 'SO_a', 'HBP_a',\n",
      "       'BK', 'WP', 'BF', 'ERA+', 'BB9', 'SO9', 'SO/W', 'LOB.1'],\n",
      "      dtype='object')\n",
      "\n",
      "index:  RangeIndex(start=0, stop=16, step=1)\n"
     ]
    }
   ],
   "source": [
    "print (\"size: \",df.shape)\n",
    "print()\n",
    "print (\"columns: \",df.columns)\n",
    "print()\n",
    "print (\"index: \",df.index)"
   ]
  },
  {
   "cell_type": "markdown",
   "metadata": {},
   "source": [
    "Get a column of data by name"
   ]
  },
  {
   "cell_type": "code",
   "execution_count": 4,
   "metadata": {},
   "outputs": [
    {
     "name": "stdout",
     "output_type": "stream",
     "text": [
      "<class 'pandas.core.series.Series'>\n",
      "\n",
      "(16,)\n",
      "\n",
      "0    96\n",
      "1    71\n",
      "2    73\n",
      "3    85\n",
      "4    90\n",
      "Name: W, dtype: int64\n"
     ]
    }
   ],
   "source": [
    "wins=df[\"W\"]\n",
    "print (type(wins))\n",
    "print()\n",
    "print(wins.shape)\n",
    "print()\n",
    "print(wins.head())"
   ]
  },
  {
   "cell_type": "markdown",
   "metadata": {},
   "source": [
    "'wins' should be of type 'Series'.  Series has many useful functions"
   ]
  },
  {
   "cell_type": "code",
   "execution_count": 5,
   "metadata": {},
   "outputs": [
    {
     "name": "stdout",
     "output_type": "stream",
     "text": [
      "mean is:  81.875\n"
     ]
    },
    {
     "data": {
      "text/plain": [
       "<matplotlib.axes._subplots.AxesSubplot at 0x7efd197ce470>"
      ]
     },
     "execution_count": 5,
     "metadata": {},
     "output_type": "execute_result"
    },
    {
     "data": {
      "image/png": "[encoded data removed]",
      "text/plain": [
       "<Figure size 432x288 with 1 Axes>"
      ]
     },
     "metadata": {
      "needs_background": "light"
     },
     "output_type": "display_data"
    }
   ],
   "source": [
    "print (\"mean is: \",wins.mean())\n",
    "%matplotlib inline\n",
    "wins.plot()"
   ]
  },
  {
   "cell_type": "markdown",
   "metadata": {},
   "source": [
    "Open a time series"
   ]
  },
  {
   "cell_type": "code",
   "execution_count": 6,
   "metadata": {},
   "outputs": [],
   "source": [
    "# dataset from Python for Data Analysis by Wes Mckinney\n",
    "apple=pd.read_csv('apple.csv', index_col=0, parse_dates=True)"
   ]
  },
  {
   "cell_type": "markdown",
   "metadata": {},
   "source": [
    "Inspect the data, note the index is a date"
   ]
  },
  {
   "cell_type": "code",
   "execution_count": 13,
   "metadata": {},
   "outputs": [
    {
     "name": "stdout",
     "output_type": "stream",
     "text": [
      "head\n",
      "              Open   High     Low  Close      Volume\n",
      "Date                                                \n",
      "2015-02-23  130.02  133.0  129.66  133.0  67871830.0\n",
      "2015-02-20  128.62  129.5  128.05  129.5  48948419.0\n",
      "\n",
      "tail\n",
      "            Open  High   Low  Close      Volume\n",
      "Date                                           \n",
      "1980-12-15   0.0  3.91  3.89   3.89   5496400.0\n",
      "1980-12-12   0.0  4.12  4.11   4.11  14657300.0\n",
      "\n",
      "shape\n",
      "(8640, 5)\n",
      "\n",
      "column headers\n",
      "Index(['Open', 'High', 'Low', 'Close', 'Volume'], dtype='object')\n"
     ]
    }
   ],
   "source": [
    "print('head')\n",
    "print( apple.head(2))\n",
    "print()\n",
    "print('tail')\n",
    "print( apple.tail(2))\n",
    "print()\n",
    "print('shape')\n",
    "print( apple.shape)\n",
    "print()\n",
    "print('column headers')\n",
    "print( apple.columns)"
   ]
  },
  {
   "cell_type": "markdown",
   "metadata": {},
   "source": [
    "get a range of dates"
   ]
  },
  {
   "cell_type": "code",
   "execution_count": 32,
   "metadata": {},
   "outputs": [
    {
     "data": {
      "text/html": [
       "<div>\n",
       "<style scoped>\n",
       "    .dataframe tbody tr th:only-of-type {\n",
       "        vertical-align: middle;\n",
       "    }\n",
       "\n",
       "    .dataframe tbody tr th {\n",
       "        vertical-align: top;\n",
       "    }\n",
       "\n",
       "    .dataframe thead th {\n",
       "        text-align: right;\n",
       "    }\n",
       "</style>\n",
       "<table border=\"1\" class=\"dataframe\">\n",
       "  <thead>\n",
       "    <tr style=\"text-align: right;\">\n",
       "      <th></th>\n",
       "      <th>Open</th>\n",
       "      <th>High</th>\n",
       "      <th>Low</th>\n",
       "      <th>Close</th>\n",
       "      <th>Volume</th>\n",
       "    </tr>\n",
       "    <tr>\n",
       "      <th>Date</th>\n",
       "      <th></th>\n",
       "      <th></th>\n",
       "      <th></th>\n",
       "      <th></th>\n",
       "      <th></th>\n",
       "    </tr>\n",
       "  </thead>\n",
       "  <tbody>\n",
       "    <tr>\n",
       "      <th>2012-12-14</th>\n",
       "      <td>73.54</td>\n",
       "      <td>74.02</td>\n",
       "      <td>72.23</td>\n",
       "      <td>72.83</td>\n",
       "      <td>252394499.0</td>\n",
       "    </tr>\n",
       "    <tr>\n",
       "      <th>2012-12-13</th>\n",
       "      <td>75.88</td>\n",
       "      <td>76.81</td>\n",
       "      <td>75.11</td>\n",
       "      <td>75.67</td>\n",
       "      <td>156314627.0</td>\n",
       "    </tr>\n",
       "    <tr>\n",
       "      <th>2012-12-12</th>\n",
       "      <td>78.25</td>\n",
       "      <td>78.29</td>\n",
       "      <td>76.61</td>\n",
       "      <td>77.00</td>\n",
       "      <td>121783130.0</td>\n",
       "    </tr>\n",
       "    <tr>\n",
       "      <th>2012-12-11</th>\n",
       "      <td>77.11</td>\n",
       "      <td>78.51</td>\n",
       "      <td>76.77</td>\n",
       "      <td>77.34</td>\n",
       "      <td>148085903.0</td>\n",
       "    </tr>\n",
       "    <tr>\n",
       "      <th>2012-12-10</th>\n",
       "      <td>75.00</td>\n",
       "      <td>76.93</td>\n",
       "      <td>74.51</td>\n",
       "      <td>75.69</td>\n",
       "      <td>157620575.0</td>\n",
       "    </tr>\n",
       "  </tbody>\n",
       "</table>\n",
       "</div>"
      ],
      "text/plain": [
       "             Open   High    Low  Close       Volume\n",
       "Date                                               \n",
       "2012-12-14  73.54  74.02  72.23  72.83  252394499.0\n",
       "2012-12-13  75.88  76.81  75.11  75.67  156314627.0\n",
       "2012-12-12  78.25  78.29  76.61  77.00  121783130.0\n",
       "2012-12-11  77.11  78.51  76.77  77.34  148085903.0\n",
       "2012-12-10  75.00  76.93  74.51  75.69  157620575.0"
      ]
     },
     "execution_count": 32,
     "metadata": {},
     "output_type": "execute_result"
    }
   ],
   "source": [
    "apple.loc['2012-12-14':'2012-12-10']"
   ]
  },
  {
   "cell_type": "markdown",
   "metadata": {},
   "source": [
    "Can also get row by integer index"
   ]
  },
  {
   "cell_type": "code",
   "execution_count": 36,
   "metadata": {},
   "outputs": [
    {
     "name": "stdout",
     "output_type": "stream",
     "text": [
      "Open            0.00\n",
      "High            7.88\n",
      "Low             7.66\n",
      "Close           7.66\n",
      "Volume    4187400.00\n",
      "Name: 1983-06-23 00:00:00, dtype: float64\n"
     ]
    }
   ],
   "source": [
    "print (apple.iloc[8000])"
   ]
  },
  {
   "cell_type": "markdown",
   "metadata": {},
   "source": [
    "Print statistics"
   ]
  },
  {
   "cell_type": "code",
   "execution_count": 38,
   "metadata": {},
   "outputs": [
    {
     "name": "stdout",
     "output_type": "stream",
     "text": [
      "min is: 0.94\n",
      "max is: 133.0\n",
      "standard deviation is: 24.192695823499783\n"
     ]
    }
   ],
   "source": [
    "print (\"min is:\",apple['Close'].min())\n",
    "print (\"max is:\",apple['Close'].max())\n",
    "print (\"standard deviation is:\",apple['Close'].std())"
   ]
  },
  {
   "cell_type": "markdown",
   "metadata": {},
   "source": [
    "Slice a dataframe by a condition"
   ]
  },
  {
   "cell_type": "code",
   "execution_count": 40,
   "metadata": {},
   "outputs": [
    {
     "name": "stdout",
     "output_type": "stream",
     "text": [
      "(115, 5)\n"
     ]
    },
    {
     "data": {
      "text/plain": [
       "115"
      ]
     },
     "execution_count": 40,
     "metadata": {},
     "output_type": "execute_result"
    }
   ],
   "source": [
    "over_100=apple[apple['Close']>100]\n",
    "print (over_100.shape)\n",
    "apple['Close'][apple['Close']>100].count()"
   ]
  },
  {
   "cell_type": "code",
   "execution_count": null,
   "metadata": {},
   "outputs": [],
   "source": []
  }
 ],
 "metadata": {
  "kernelspec": {
   "display_name": "Python 3",
   "language": "python",
   "name": "python3"
  },
  "language_info": {
   "codemirror_mode": {
    "name": "ipython",
    "version": 3
   },
   "file_extension": ".py",
   "mimetype": "text/x-python",
   "name": "python",
   "nbconvert_exporter": "python",
   "pygments_lexer": "ipython3",
   "version": "3.7.3"
  }
 },
 "nbformat": 4,
 "nbformat_minor": 2
}
