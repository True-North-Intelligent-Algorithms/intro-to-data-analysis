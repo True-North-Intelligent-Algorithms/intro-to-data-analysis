{
 "cells": [
  {
   "cell_type": "markdown",
   "metadata": {},
   "source": [
    "# Groupby Example"
   ]
  },
  {
   "cell_type": "code",
   "execution_count": 1,
   "metadata": {},
   "outputs": [],
   "source": [
    "import pandas as pd\n",
    "from IPython.display import display"
   ]
  },
  {
   "cell_type": "code",
   "execution_count": 2,
   "metadata": {},
   "outputs": [
    {
     "name": "stdout",
     "output_type": "stream",
     "text": [
      "(60, 14)\n"
     ]
    },
    {
     "data": {
      "text/html": [
       "<div>\n",
       "<style scoped>\n",
       "    .dataframe tbody tr th:only-of-type {\n",
       "        vertical-align: middle;\n",
       "    }\n",
       "\n",
       "    .dataframe tbody tr th {\n",
       "        vertical-align: top;\n",
       "    }\n",
       "\n",
       "    .dataframe thead th {\n",
       "        text-align: right;\n",
       "    }\n",
       "</style>\n",
       "<table border=\"1\" class=\"dataframe\">\n",
       "  <thead>\n",
       "    <tr style=\"text-align: right;\">\n",
       "      <th></th>\n",
       "      <th>Tm</th>\n",
       "      <th>Year</th>\n",
       "      <th>lg</th>\n",
       "      <th>R</th>\n",
       "      <th>2B</th>\n",
       "      <th>3B</th>\n",
       "      <th>HR</th>\n",
       "      <th>RBI</th>\n",
       "      <th>SB</th>\n",
       "      <th>BB</th>\n",
       "      <th>BA</th>\n",
       "      <th>OBP</th>\n",
       "      <th>SLG</th>\n",
       "      <th>OPS</th>\n",
       "    </tr>\n",
       "  </thead>\n",
       "  <tbody>\n",
       "    <tr>\n",
       "      <th>0</th>\n",
       "      <td>BAL</td>\n",
       "      <td>2015</td>\n",
       "      <td>AL</td>\n",
       "      <td>713</td>\n",
       "      <td>246</td>\n",
       "      <td>20</td>\n",
       "      <td>217</td>\n",
       "      <td>686</td>\n",
       "      <td>44</td>\n",
       "      <td>418</td>\n",
       "      <td>0.250</td>\n",
       "      <td>0.307</td>\n",
       "      <td>0.421</td>\n",
       "      <td>0.728</td>\n",
       "    </tr>\n",
       "    <tr>\n",
       "      <th>1</th>\n",
       "      <td>BOS</td>\n",
       "      <td>2015</td>\n",
       "      <td>AL</td>\n",
       "      <td>748</td>\n",
       "      <td>294</td>\n",
       "      <td>33</td>\n",
       "      <td>161</td>\n",
       "      <td>706</td>\n",
       "      <td>71</td>\n",
       "      <td>478</td>\n",
       "      <td>0.265</td>\n",
       "      <td>0.325</td>\n",
       "      <td>0.415</td>\n",
       "      <td>0.740</td>\n",
       "    </tr>\n",
       "    <tr>\n",
       "      <th>2</th>\n",
       "      <td>CHW</td>\n",
       "      <td>2015</td>\n",
       "      <td>AL</td>\n",
       "      <td>622</td>\n",
       "      <td>260</td>\n",
       "      <td>27</td>\n",
       "      <td>136</td>\n",
       "      <td>595</td>\n",
       "      <td>68</td>\n",
       "      <td>404</td>\n",
       "      <td>0.250</td>\n",
       "      <td>0.306</td>\n",
       "      <td>0.380</td>\n",
       "      <td>0.686</td>\n",
       "    </tr>\n",
       "    <tr>\n",
       "      <th>3</th>\n",
       "      <td>CLE</td>\n",
       "      <td>2015</td>\n",
       "      <td>AL</td>\n",
       "      <td>669</td>\n",
       "      <td>303</td>\n",
       "      <td>29</td>\n",
       "      <td>141</td>\n",
       "      <td>640</td>\n",
       "      <td>86</td>\n",
       "      <td>533</td>\n",
       "      <td>0.256</td>\n",
       "      <td>0.325</td>\n",
       "      <td>0.401</td>\n",
       "      <td>0.725</td>\n",
       "    </tr>\n",
       "    <tr>\n",
       "      <th>4</th>\n",
       "      <td>DET</td>\n",
       "      <td>2015</td>\n",
       "      <td>AL</td>\n",
       "      <td>689</td>\n",
       "      <td>289</td>\n",
       "      <td>49</td>\n",
       "      <td>151</td>\n",
       "      <td>660</td>\n",
       "      <td>83</td>\n",
       "      <td>455</td>\n",
       "      <td>0.270</td>\n",
       "      <td>0.328</td>\n",
       "      <td>0.420</td>\n",
       "      <td>0.748</td>\n",
       "    </tr>\n",
       "  </tbody>\n",
       "</table>\n",
       "</div>"
      ],
      "text/plain": [
       "    Tm  Year  lg    R   2B  3B   HR  RBI  SB   BB     BA    OBP    SLG    OPS\n",
       "0  BAL  2015  AL  713  246  20  217  686  44  418  0.250  0.307  0.421  0.728\n",
       "1  BOS  2015  AL  748  294  33  161  706  71  478  0.265  0.325  0.415  0.740\n",
       "2  CHW  2015  AL  622  260  27  136  595  68  404  0.250  0.306  0.380  0.686\n",
       "3  CLE  2015  AL  669  303  29  141  640  86  533  0.256  0.325  0.401  0.725\n",
       "4  DET  2015  AL  689  289  49  151  660  83  455  0.270  0.328  0.420  0.748"
      ]
     },
     "metadata": {},
     "output_type": "display_data"
    }
   ],
   "source": [
    "mlb=pd.read_csv('MLB_2014_2015.csv')\n",
    "# take a look at the shape of the dataset\n",
    "print(mlb.shape)\n",
    "# and the first few columns\n",
    "display(mlb.head())"
   ]
  },
  {
   "cell_type": "markdown",
   "metadata": {},
   "source": [
    "The groupby function is one of the most important functions in data analysis.  It groups rows of a table by common values of a collumn.  Here we group by 'Year'."
   ]
  },
  {
   "cell_type": "code",
   "execution_count": 3,
   "metadata": {},
   "outputs": [],
   "source": [
    "year_group=mlb.groupby('Year')"
   ]
  },
  {
   "cell_type": "code",
   "execution_count": 4,
   "metadata": {},
   "outputs": [
    {
     "name": "stdout",
     "output_type": "stream",
     "text": [
      "<class 'pandas.core.groupby.generic.DataFrameGroupBy'>\n",
      "2\n"
     ]
    }
   ],
   "source": [
    "print (type(year_group))\n",
    "print (len(year_group))"
   ]
  },
  {
   "cell_type": "markdown",
   "metadata": {},
   "source": [
    "Groupby returns a 'DataFrameGroupBy' object.  Before using the groups we need 'aggregate' the groups by a method such as 'count' or 'mean'. Below we group by mean."
   ]
  },
  {
   "cell_type": "code",
   "execution_count": 5,
   "metadata": {},
   "outputs": [
    {
     "name": "stdout",
     "output_type": "stream",
     "text": [
      "Help on method mean in module pandas.core.groupby.groupby:\n",
      "\n",
      "mean(numeric_only: 'bool' = False, engine: 'str' = 'cython', engine_kwargs: 'dict[str, bool] | None' = None) method of pandas.core.groupby.generic.DataFrameGroupBy instance\n",
      "    Compute mean of groups, excluding missing values.\n",
      "    \n",
      "    Parameters\n",
      "    ----------\n",
      "    numeric_only : bool, default False\n",
      "        Include only float, int, boolean columns.\n",
      "    \n",
      "        .. versionchanged:: 2.0.0\n",
      "    \n",
      "            numeric_only no longer accepts ``None`` and defaults to ``False``.\n",
      "    \n",
      "    engine : str, default None\n",
      "        * ``'cython'`` : Runs the operation through C-extensions from cython.\n",
      "        * ``'numba'`` : Runs the operation through JIT compiled code from numba.\n",
      "        * ``None`` : Defaults to ``'cython'`` or globally setting\n",
      "          ``compute.use_numba``\n",
      "    \n",
      "        .. versionadded:: 1.4.0\n",
      "    \n",
      "    engine_kwargs : dict, default None\n",
      "        * For ``'cython'`` engine, there are no accepted ``engine_kwargs``\n",
      "        * For ``'numba'`` engine, the engine can accept ``nopython``, ``nogil``\n",
      "          and ``parallel`` dictionary keys. The values must either be ``True`` or\n",
      "          ``False``. The default ``engine_kwargs`` for the ``'numba'`` engine is\n",
      "          ``{{'nopython': True, 'nogil': False, 'parallel': False}}``\n",
      "    \n",
      "        .. versionadded:: 1.4.0\n",
      "    \n",
      "    Returns\n",
      "    -------\n",
      "    pandas.Series or pandas.DataFrame\n",
      "    \n",
      "    See Also\n",
      "    --------\n",
      "    Series.groupby : Apply a function groupby to a Series.\n",
      "    DataFrame.groupby : Apply a function groupby\n",
      "        to each row or column of a DataFrame.\n",
      "    \n",
      "    Examples\n",
      "    --------\n",
      "    >>> df = pd.DataFrame({'A': [1, 1, 2, 1, 2],\n",
      "    ...                    'B': [np.nan, 2, 3, 4, 5],\n",
      "    ...                    'C': [1, 2, 1, 1, 2]}, columns=['A', 'B', 'C'])\n",
      "    \n",
      "    Groupby one column and return the mean of the remaining columns in\n",
      "    each group.\n",
      "    \n",
      "    >>> df.groupby('A').mean()\n",
      "         B         C\n",
      "    A\n",
      "    1  3.0  1.333333\n",
      "    2  4.0  1.500000\n",
      "    \n",
      "    Groupby two columns and return the mean of the remaining column.\n",
      "    \n",
      "    >>> df.groupby(['A', 'B']).mean()\n",
      "             C\n",
      "    A B\n",
      "    1 2.0  2.0\n",
      "      4.0  1.0\n",
      "    2 3.0  1.0\n",
      "      5.0  2.0\n",
      "    \n",
      "    Groupby one column and return the mean of only particular column in\n",
      "    the group.\n",
      "    \n",
      "    >>> df.groupby('A')['B'].mean()\n",
      "    A\n",
      "    1    3.0\n",
      "    2    4.0\n",
      "    Name: B, dtype: float64\n",
      "\n"
     ]
    }
   ],
   "source": [
    "help(year_group.mean)"
   ]
  },
  {
   "cell_type": "code",
   "execution_count": 6,
   "metadata": {},
   "outputs": [
    {
     "name": "stdout",
     "output_type": "stream",
     "text": [
      "<class 'pandas.core.frame.DataFrame'>\n",
      "               R          2B    3B          HR         RBI         SB  \\\n",
      "Year                                                                    \n",
      "2014  658.700000  271.233333  28.3  139.533333  624.833333  92.133333   \n",
      "2015  688.233333  274.733333  31.3  163.633333  655.000000  83.500000   \n",
      "\n",
      "              BB      BA       OBP       SLG       OPS  \n",
      "Year                                                    \n",
      "2014  467.333333  0.2511  0.313667  0.386200  0.699733  \n",
      "2015  469.100000  0.2544  0.316667  0.404567  0.721267  \n"
     ]
    }
   ],
   "source": [
    "by_year=year_group.mean(numeric_only=True)\n",
    "print (type(by_year))\n",
    "print\n",
    "print (by_year.head())"
   ]
  },
  {
   "cell_type": "markdown",
   "metadata": {},
   "source": [
    "Below we group by max"
   ]
  },
  {
   "cell_type": "code",
   "execution_count": 7,
   "metadata": {},
   "outputs": [
    {
     "name": "stdout",
     "output_type": "stream",
     "text": [
      "<class 'pandas.core.frame.DataFrame'>\n",
      "       Tm  lg    R   2B  3B   HR  RBI   SB   BB     BA    OBP    SLG    OPS\n",
      "Year                                                                       \n",
      "2014  WSN  NL  773  325  47  211  731  153  586  0.277  0.333  0.445  0.772\n",
      "2015  WSN  NL  891  308  49  232  852  134  570  0.270  0.340  0.457  0.797\n"
     ]
    }
   ],
   "source": [
    "by_year_max=year_group.max()\n",
    "print (type(by_year_max))\n",
    "print\n",
    "print (by_year_max.head())"
   ]
  },
  {
   "cell_type": "markdown",
   "metadata": {},
   "source": [
    "Now we have a dataframe for which we can call the ussual plotting functions"
   ]
  },
  {
   "cell_type": "code",
   "execution_count": 8,
   "metadata": {},
   "outputs": [
    {
     "data": {
      "text/plain": [
       "<Axes: xlabel='Year'>"
      ]
     },
     "execution_count": 8,
     "metadata": {},
     "output_type": "execute_result"
    },
    {
     "data": {
      "image/png": "[encoded data removed]",
      "text/plain": [
       "<Figure size 640x480 with 1 Axes>"
      ]
     },
     "metadata": {},
     "output_type": "display_data"
    }
   ],
   "source": [
    "%matplotlib inline\n",
    "\n",
    "by_year.plot.bar()"
   ]
  },
  {
   "cell_type": "code",
   "execution_count": 9,
   "metadata": {},
   "outputs": [
    {
     "data": {
      "text/plain": [
       "<Axes: xlabel='Year'>"
      ]
     },
     "execution_count": 9,
     "metadata": {},
     "output_type": "execute_result"
    },
    {
     "data": {
      "image/png": "[encoded data removed]",
      "text/plain": [
       "<Figure size 640x480 with 1 Axes>"
      ]
     },
     "metadata": {},
     "output_type": "display_data"
    }
   ],
   "source": [
    "by_year.plot.bar(stacked=True)"
   ]
  },
  {
   "cell_type": "code",
   "execution_count": null,
   "metadata": {
    "collapsed": true
   },
   "outputs": [],
   "source": []
  }
 ],
 "metadata": {
  "anaconda-cloud": {},
  "kernelspec": {
   "display_name": "Python 3",
   "language": "python",
   "name": "python3"
  },
  "language_info": {
   "codemirror_mode": {
    "name": "ipython",
    "version": 3
   },
   "file_extension": ".py",
   "mimetype": "text/x-python",
   "name": "python",
   "nbconvert_exporter": "python",
   "pygments_lexer": "ipython3",
   "version": "3.9.16"
  }
 },
 "nbformat": 4,
 "nbformat_minor": 1
}
