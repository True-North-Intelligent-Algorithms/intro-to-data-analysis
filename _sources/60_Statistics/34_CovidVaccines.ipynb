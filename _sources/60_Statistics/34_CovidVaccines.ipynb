{
 "cells": [
  {
   "cell_type": "code",
   "execution_count": 1,
   "metadata": {},
   "outputs": [],
   "source": [
    "import scipy.stats as stats\n",
    "import numpy as np"
   ]
  },
  {
   "cell_type": "code",
   "execution_count": 2,
   "metadata": {},
   "outputs": [],
   "source": [
    "# In this notebook we compare made up statistics on a vaccine clinical trial\n",
    "# the example is based on code from here \n",
    "# (see the section that begins with \"Suppose we instead have binary data...\")\n",
    "# https://docs.scipy.org/doc/scipy/reference/generated/scipy.stats.ttest_ind_from_stats.html"
   ]
  },
  {
   "cell_type": "code",
   "execution_count": 3,
   "metadata": {},
   "outputs": [],
   "source": [
    "# let's make up some fake numbers for a Covid vaccine trial.  These aren't the real numbers for any trial we are just testing \n",
    "# different possible scenarios\n",
    "\n",
    "# in a Vaccine trial roughly half of the participants get a 'placebo' (no Vaccine but they get an empty shot) and half \n",
    "# the real Vaccine.  They are then left to live their lives for a few weeks or months and tested to see if they got the Disease.\n",
    "# If the Vaccine works we expect less people to get the disease in the 'Vaccine' group as compared to the Placebo group\n",
    "\n",
    "# number of people who got the 'placebo'\n",
    "placebosize = 15000\n",
    "# number of poeple who got covid in the 'placebo group'\n",
    "placebocovid = 200\n",
    "# average number of people who got covid in 'placebo group'\n",
    "placebomean = placebocovid/15000\n",
    "# variance in placebo group\n",
    "placebovariance = (placebomean/(1-placebomean))\n",
    "\n",
    "# now the same numbers for the Vaccine group \n",
    "vaccinesize = 15000\n",
    "vaccinecovid = 20\n",
    "vaccinemean = vaccinecovid/15000\n",
    "vaccinevariance = (vaccinemean/(1-vaccinemean))\n"
   ]
  },
  {
   "cell_type": "code",
   "execution_count": 4,
   "metadata": {},
   "outputs": [
    {
     "data": {
      "text/plain": [
       "Ttest_indResult(statistic=12.061011364712856, pvalue=2.0278513252517948e-33)"
      ]
     },
     "execution_count": 4,
     "metadata": {},
     "output_type": "execute_result"
    }
   ],
   "source": [
    "# now lets run the ttest from the statistics.  In this case the p value should be low \n",
    "stats.ttest_ind_from_stats(mean1=placebomean, std1=np.sqrt(placebovariance), nobs1=placebosize, mean2=vaccinemean, std2=np.sqrt(vaccinevariance), nobs2=vaccinesize)"
   ]
  },
  {
   "cell_type": "code",
   "execution_count": 9,
   "metadata": {},
   "outputs": [],
   "source": [
    "# Now what if our sample size was much smaller and the numbers looked as below\n",
    "# note in this case only half as many got Covid in the Vaccine group.  It might be a relationship.  Is it?\n",
    "\n",
    "placebosize = 100\n",
    "placebocovid = 7\n",
    "placebomean = placebocovid/placebosize\n",
    "placebovariance = (placebomean/(1-placebomean))\n",
    "vaccinesize = 100\n",
    "vaccinecovid = 2\n",
    "vaccinemean = vaccinecovid/vaccinesize\n",
    "vaccinevariance = (vaccinemean/(1-vaccinemean))"
   ]
  },
  {
   "cell_type": "code",
   "execution_count": 10,
   "metadata": {},
   "outputs": [
    {
     "data": {
      "text/plain": [
       "Ttest_indResult(statistic=1.616464882265102, pvalue=0.10758598258426674)"
      ]
     },
     "execution_count": 10,
     "metadata": {},
     "output_type": "execute_result"
    }
   ],
   "source": [
    "# in this case after running the t-test we should get a much higher p value.  150 samples is not enough to detect \n",
    "# the relationship. \n",
    "stats.ttest_ind_from_stats(mean1=placebomean, std1=np.sqrt(placebovariance), nobs1=placebosize, mean2=vaccinemean, std2=np.sqrt(vaccinevariance), nobs2=vaccinesize)"
   ]
  },
  {
   "cell_type": "code",
   "execution_count": null,
   "metadata": {},
   "outputs": [],
   "source": []
  }
 ],
 "metadata": {
  "kernelspec": {
   "display_name": "Python 3",
   "language": "python",
   "name": "python3"
  },
  "language_info": {
   "codemirror_mode": {
    "name": "ipython",
    "version": 3
   },
   "file_extension": ".py",
   "mimetype": "text/x-python",
   "name": "python",
   "nbconvert_exporter": "python",
   "pygments_lexer": "ipython3",
   "version": "3.9.18"
  }
 },
 "nbformat": 4,
 "nbformat_minor": 2
}
