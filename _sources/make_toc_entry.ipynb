{
 "cells": [
  {
   "cell_type": "code",
   "execution_count": 1,
   "metadata": {},
   "outputs": [
    {
     "name": "stdout",
     "output_type": "stream",
     "text": [
      "- file: 60_Statistics/20_Statistics.md\n",
      "- file: 60_Statistics/10_Introduction.md\n"
     ]
    }
   ],
   "source": [
    "import os\n",
    "\n",
    "folder_path = \"60_Statistics\"\n",
    "toc_entries = []\n",
    "\n",
    "for file_name in os.listdir(folder_path):\n",
    "    if file_name.startswith((\"10_\", \"20_\")) and (file_name.endswith(\".md\") or file_name.endswith(\".ipynb\")):\n",
    "        toc_entry = f\"- file: {os.path.join(folder_path, file_name)}\"\n",
    "        toc_entries.append(toc_entry)\n",
    "\n",
    "toc_content = \"\\n\".join(toc_entries)\n",
    "\n",
    "print(toc_content)"
   ]
  },
  {
   "cell_type": "code",
   "execution_count": 15,
   "metadata": {},
   "outputs": [
    {
     "data": {
      "text/plain": [
       "['08_Module2.md',\n",
       " '10_Introduction.md',\n",
       " '2015battingstats.csv',\n",
       " '20_Statistics.md',\n",
       " '21_DescriptiveStatistics.ipynb',\n",
       " '22_DistributionConfidence.md',\n",
       " '30_HypothesisTesting.md',\n",
       " '31_HypothesisTestingInPractice.md',\n",
       " '32_HumanBodyTemp.ipynb',\n",
       " '33_Ind. T-test Simple.ipynb',\n",
       " '34_CovidVaccines.ipynb',\n",
       " '37_Ind. T-Test Baseball Teams.ipynb',\n",
       " '39_NormalDistributionAndConfidenceInterval.ipynb',\n",
       " 'Assignment.md',\n",
       " 'Discussion.md',\n",
       " 'FileTable.jpg',\n",
       " 'NormalDistributionAndConfidenceInterval.jpg',\n",
       " 'NormalEquation.jpg',\n",
       " 'SingleSampleKNIME.jpg',\n",
       " 'StandardDeviation.jpg',\n",
       " 'StandardError.jpg',\n",
       " 'T-tests.jpg',\n",
       " 'credit_risk.csv',\n",
       " 'loser.csv',\n",
       " 'losers.csv',\n",
       " 'mlb2015teams.csv',\n",
       " 'temps.csv',\n",
       " 'winners.csv']"
      ]
     },
     "execution_count": 15,
     "metadata": {},
     "output_type": "execute_result"
    }
   ],
   "source": [
    "\n",
    "#pattern = r\"^\\d+\"\n",
    "\n",
    "file_names = os.listdir(folder_path)\n",
    "#sorted_file_names = sorted(file_names, key=lambda x: int(re.match(pattern, x).group()))\n",
    "sorted_file_names = sorted(file_names)\n",
    "sorted_file_names"
   ]
  },
  {
   "cell_type": "code",
   "execution_count": 16,
   "metadata": {},
   "outputs": [
    {
     "name": "stdout",
     "output_type": "stream",
     "text": [
      "- file: 60_Statistics/08_Module2\n",
      "- file: 60_Statistics/10_Introduction\n",
      "- file: 60_Statistics/20_Statistics\n",
      "- file: 60_Statistics/21_DescriptiveStatistics.ipynb\n",
      "- file: 60_Statistics/22_DistributionConfidence\n",
      "- file: 60_Statistics/30_HypothesisTesting\n",
      "- file: 60_Statistics/31_HypothesisTestingInPractice\n",
      "- file: 60_Statistics/32_HumanBodyTemp.ipynb\n",
      "- file: 60_Statistics/33_Ind. T-test Simple.ipynb\n",
      "- file: 60_Statistics/34_CovidVaccines.ipynb\n",
      "- file: 60_Statistics/37_Ind. T-Test Baseball Teams.ipynb\n",
      "- file: 60_Statistics/39_NormalDistributionAndConfidenceInterval.ipynb\n"
     ]
    }
   ],
   "source": [
    "import os\n",
    "import re\n",
    "\n",
    "folder_path = \"60_Statistics\"\n",
    "toc_entries = []\n",
    "\n",
    "pattern = r\"^\\d+_\"\n",
    "\n",
    "for file_name in sorted_file_names:\n",
    "    if re.match(pattern, file_name):\n",
    "        file_path = os.path.join(folder_path, file_name)\n",
    "        if file_name.endswith(\".md\") or os.path.splitext(file_name)[1] == \"\":\n",
    "            file_path_without_extension = file_path.split('.')[0]\n",
    "            toc_entry = f\"- file: {file_path_without_extension}\"\n",
    "            toc_entries.append(toc_entry)\n",
    "        elif file_name.endswith(\".ipynb\"):\n",
    "            toc_entry = f\"- file: {file_path}\"\n",
    "            toc_entries.append(toc_entry)\n",
    "\n",
    "toc_content = \"\\n\".join(toc_entries)\n",
    "\n",
    "print(toc_content)"
   ]
  },
  {
   "cell_type": "code",
   "execution_count": null,
   "metadata": {},
   "outputs": [],
   "source": []
  }
 ],
 "metadata": {
  "kernelspec": {
   "display_name": "decon-dl-env2",
   "language": "python",
   "name": "python3"
  },
  "language_info": {
   "codemirror_mode": {
    "name": "ipython",
    "version": 3
   },
   "file_extension": ".py",
   "mimetype": "text/x-python",
   "name": "python",
   "nbconvert_exporter": "python",
   "pygments_lexer": "ipython3",
   "version": "3.9.18"
  },
  "orig_nbformat": 4
 },
 "nbformat": 4,
 "nbformat_minor": 2
}
